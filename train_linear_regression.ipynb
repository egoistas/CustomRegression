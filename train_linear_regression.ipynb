{
 "cells": [
  {
   "cell_type": "code",
   "execution_count": 1,
   "id": "779d4ac5",
   "metadata": {},
   "outputs": [],
   "source": [
    "from linear_regression_scratch import LinearRegressionScratch\n",
    "from custom_scaler import CustomScaler\n",
    "from config import config\n",
    "import csv\n",
    "import random\n",
    "from math import sqrt"
   ]
  },
  {
   "cell_type": "code",
   "execution_count": 2,
   "id": "f5fda1f4",
   "metadata": {},
   "outputs": [],
   "source": [
    "def preprocess_csv(file_path):\n",
    "    with open(file_path, 'r') as file:\n",
    "        reader = csv.reader(file)\n",
    "        data = list(reader)\n",
    "    headers = data[0]  # Extract headers\n",
    "    data = data[1:]  # Exclude headers\n",
    "    X = [list(map(float, row[:-1])) for row in data]\n",
    "    y = [float(row[-1]) for row in data]\n",
    "    return X, y, headers"
   ]
  },
  {
   "cell_type": "code",
   "execution_count": 3,
   "id": "9f689fb5",
   "metadata": {},
   "outputs": [],
   "source": [
    "def train_test_split(X, y, test_size=0.2):\n",
    "    data = list(zip(X, y))\n",
    "    random.shuffle(data)\n",
    "    split_index = int(len(data) * (1 - test_size))\n",
    "    train_data = data[:split_index]\n",
    "    test_data = data[split_index:]\n",
    "    X_train, y_train = zip(*train_data)\n",
    "    X_test, y_test = zip(*test_data)\n",
    "    return list(X_train), list(y_train), list(X_test), list(y_test)"
   ]
  },
  {
   "cell_type": "code",
   "execution_count": 4,
   "id": "fe2703db",
   "metadata": {},
   "outputs": [],
   "source": [
    "def mean_absolute_error(y_true, y_pred):\n",
    "    return sum(abs(y_true[i] - y_pred[i]) for i in range(len(y_true))) / len(y_true)\n",
    "\n",
    "def root_mean_squared_error(y_true, y_pred):\n",
    "    mse = sum((y_true[i] - y_pred[i]) ** 2 for i in range(len(y_true))) / len(y_true)\n",
    "    return sqrt(mse)"
   ]
  },
  {
   "cell_type": "code",
   "execution_count": 5,
   "id": "e289f3d7",
   "metadata": {},
   "outputs": [],
   "source": [
    "file_path = 'experimental_data.csv'  \n",
    "X, y, headers = preprocess_csv(file_path)"
   ]
  },
  {
   "cell_type": "code",
   "execution_count": 6,
   "id": "33dbf2d9",
   "metadata": {},
   "outputs": [],
   "source": [
    "scaler = CustomScaler()\n",
    "X = scaler.fit_transform(X)\n",
    "\n",
    "# split the data\n",
    "X_train, y_train, X_test, y_test = train_test_split(X, y)"
   ]
  },
  {
   "cell_type": "code",
   "execution_count": 7,
   "id": "8f656605",
   "metadata": {},
   "outputs": [],
   "source": [
    "model = LinearRegressionScratch(\n",
    "    lr=config['learning_rate'],\n",
    "    epochs=config['epochs'],\n",
    "    regularization=config['regularization'],\n",
    "    reg_lambda=config['reg_lambda']\n",
    ")\n",
    "model.fit(X_train, y_train)"
   ]
  },
  {
   "cell_type": "code",
   "execution_count": 8,
   "id": "ded5ea0e",
   "metadata": {},
   "outputs": [
    {
     "name": "stdout",
     "output_type": "stream",
     "text": [
      "Mean Squared Error (Test): 25033.212433101442\n",
      "R2 Score (Test): 0.8841364180432827\n",
      "Mean Absolute Error (Test): 121.50143960623298\n",
      "Root Mean Squared Error (Test): 158.218875084806\n"
     ]
    }
   ],
   "source": [
    "y_pred_test = model.predict(X_test)\n",
    "print(\"Mean Squared Error (Test):\", model.mean_squared_error(y_test, y_pred_test))\n",
    "print(\"R2 Score (Test):\", model.r2_score(y_test, y_pred_test))\n",
    "print(\"Mean Absolute Error (Test):\", mean_absolute_error(y_test, y_pred_test))\n",
    "print(\"Root Mean Squared Error (Test):\", root_mean_squared_error(y_test, y_pred_test))"
   ]
  },
  {
   "cell_type": "code",
   "execution_count": 9,
   "id": "c38b523b",
   "metadata": {},
   "outputs": [
    {
     "name": "stdout",
     "output_type": "stream",
     "text": [
      "Custom Predictions for Specific Targets: [409872.3267950247, 297371.0032489255]\n"
     ]
    }
   ],
   "source": [
    "# testing some random inputs\n",
    "custom_data = [\n",
    "    [4, 2, 2500, 5000, 1.0, 4, 2000, 500],  ## 4-bedroom, 2-bathroom house\n",
    "    [3, 1.5, 1800, 4000, 1.0, 3, 1500, 300]  # Total random\n",
    "]\n",
    "\n",
    "## scale the custom data -- very important in the input functionallity too\n",
    "scaled_custom_data = scaler.transform(custom_data)\n",
    "\n",
    "\n",
    "custom_predictions = model.predict(scaled_custom_data)\n",
    "print(\"custom predictions for prices of the two test houses :\", custom_predictions)\n"
   ]
  }
 ],
 "metadata": {
  "kernelspec": {
   "display_name": "Python 3",
   "language": "python",
   "name": "python3"
  },
  "language_info": {
   "codemirror_mode": {
    "name": "ipython",
    "version": 3
   },
   "file_extension": ".py",
   "mimetype": "text/x-python",
   "name": "python",
   "nbconvert_exporter": "python",
   "pygments_lexer": "ipython3",
   "version": "3.12.6"
  }
 },
 "nbformat": 4,
 "nbformat_minor": 5
}
